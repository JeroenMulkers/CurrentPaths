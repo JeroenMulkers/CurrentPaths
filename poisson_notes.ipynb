{
 "cells": [
  {
   "cell_type": "markdown",
   "metadata": {},
   "source": [
    "# Solving the generalized Poisson equation\n",
    "\n",
    "Here we solve the generalized Poisson equation for the electrostatic potential $\\Phi$\n",
    "\n",
    "$$ \\nabla [ \\sigma (\\nabla \\Phi) ] = 0, $$\n",
    "\n",
    "for an inhomogeneous conductivity $\\sigma(\\vec{r})$ in 2D. Note that for a homogeneous conductivity, this reduces to the ordinary Poisson equation $\\Delta \\Phi=0$.\n",
    "\n",
    "\n",
    "First, make sure that the right files are imported:"
   ]
  },
  {
   "cell_type": "code",
   "execution_count": null,
   "metadata": {},
   "outputs": [],
   "source": [
    "try:\n",
    "    import google.colab\n",
    "except ImportError:\n",
    "    DATAPATH = \"./example_data\"\n",
    "else:\n",
    "    !git clone https://github.com/jeroenmulkers/currentpaths\n",
    "    import sys\n",
    "    sys.path.insert(0,\"./currentpaths\")\n",
    "    DATAPATH = \"./currentpaths/example_data\"\n",
    "\n",
    "from poisson import Poisson"
   ]
  },
  {
   "cell_type": "markdown",
   "metadata": {},
   "source": [
    "## Example 1: Homogeneous conductivity"
   ]
  },
  {
   "cell_type": "code",
   "execution_count": null,
   "metadata": {},
   "outputs": [],
   "source": [
    "# Construct a 'Poisson object'\n",
    "p = Poisson( gridsize=(70,70), xrange=[0.,1.], yrange=[0.,1.], conductivity=[[1.,0],[0,1]])\n",
    "\n",
    "# Add a first contact point with a certain voltage\n",
    "region = lambda x,y: 0.15>x>0.1 and 0.4<y<0.6\n",
    "p.setPotential(regionFunc=region, U=1.0)\n",
    "\n",
    "# Of course we need a second contact\n",
    "region = lambda x,y: 0.9<x<0.95 and 0.4<y<0.6\n",
    "p.setPotential(regionFunc=region, U=-1.0)\n",
    "\n",
    "# compute and show the current\n",
    "# (set streamplotColor=None if you don't want to see the streamlines)\n",
    "p.solve();"
   ]
  },
  {
   "cell_type": "markdown",
   "metadata": {},
   "source": [
    "## Example 2: high resistivity at the center"
   ]
  },
  {
   "cell_type": "code",
   "execution_count": null,
   "metadata": {},
   "outputs": [],
   "source": [
    "p = Poisson( gridsize=(70,50), xrange=[-0.7,0.7], yrange=[0.,1.], conductivity=[[1,0],[0,1]])\n",
    "\n",
    "# Let's use the same contact points as in example 1\n",
    "region = lambda x,y: -0.45<x<-0.40 and 0.4<y<0.6\n",
    "p.setPotential(regionFunc=region, U=1.0)\n",
    "region = lambda x,y:  0.40<x< 0.45 and 0.4<y<0.6\n",
    "p.setPotential(regionFunc=region, U=-1.0)\n",
    "\n",
    "# Create rectangular region in the center with a low conductivity\n",
    "# (you can also set it to zero to have an isolating material at the center)\n",
    "region = lambda x,y: -0.1<x<0.1 and 0.3<y<0.7\n",
    "p.setConductivity(regionFunc=region, conductivity=[[0.3,0],[0,0.3]])\n",
    "\n",
    "p.solve();"
   ]
  },
  {
   "cell_type": "markdown",
   "metadata": {},
   "source": [
    "## Example 3: U shaped wire with high conductivity"
   ]
  },
  {
   "cell_type": "code",
   "execution_count": null,
   "metadata": {},
   "outputs": [],
   "source": [
    "p = Poisson( gridsize=(70,50), xrange=[-0.7,0.7], yrange=[0.,1.], conductivity=[[0.3,0],[0,0.3]])\n",
    "\n",
    "region = lambda x,y: -0.5 < x < -0.4 and 0.75 < y < 0.8\n",
    "p.setPotential(regionFunc=region, U=1.0)\n",
    "\n",
    "region = lambda x,y:  0.4 < x < 0.5 and 0.75 < y < 0.8\n",
    "p.setPotential(regionFunc=region, U=-1.0)\n",
    "\n",
    "def UshapedRegion(x,y):\n",
    "    left   = -0.5 < x < -0.4 and 0.2< y < 0.8\n",
    "    bottom = -0.5 < x <  0.5 and 0.1 < y < 0.2\n",
    "    right  =  0.4 < x <  0.5 and 0.2 < y < 0.8\n",
    "    return left or right or bottom\n",
    "\n",
    "p.setConductivity(regionFunc=UshapedRegion, conductivity=[[1.0,0.0],[0.0,1.0]])\n",
    "\n",
    "p.solve();"
   ]
  },
  {
   "cell_type": "markdown",
   "metadata": {},
   "source": [
    "## Example 4: Hall effect"
   ]
  },
  {
   "cell_type": "code",
   "execution_count": null,
   "metadata": {},
   "outputs": [],
   "source": [
    "p = Poisson( gridsize     = (70,50), \n",
    "             xrange       = [-0.7,0.7 ], \n",
    "             yrange       = [ 0.0,1.0 ], \n",
    "             conductivity = [[1.0, 0.5],\n",
    "                             [0.5, 1.0]] )\n",
    "\n",
    "region = lambda x,y: -0.55 < x < -0.50 and 0.2 < y < 0.8\n",
    "p.setPotential(regionFunc=region, U=1.0)\n",
    "\n",
    "region = lambda x,y:  0.50 < x < 0.55 and 0.2 < y < 0.8\n",
    "p.setPotential(regionFunc=region, U=-1.0)\n",
    "\n",
    "p.solve();"
   ]
  },
  {
   "cell_type": "markdown",
   "metadata": {},
   "source": [
    "## Example 5: anisotropic magnetic resistance"
   ]
  },
  {
   "cell_type": "code",
   "execution_count": null,
   "metadata": {},
   "outputs": [],
   "source": [
    "from magnetization import readovf, AMRconductivity\n",
    "\n",
    "mag,_ = readovf(DATAPATH+\"/blochskyrmion.ovf\")\n",
    "#mag,_ = readovf(DATAPATH+\"/neelskyrmion.ovf\") \n",
    "mag = mag[0] # extract the only layer\n",
    "\n",
    "conductivity = AMRconductivity(mag, conductivity0=1.0, AMRratio=1)\n",
    "conductivity = conductivity[:,:,:2,:2] # remove the z components \n",
    "\n",
    "p = Poisson( gridsize     = (mag.shape[1],mag.shape[0]), \n",
    "             xrange       = [-0.5,0.5], \n",
    "             yrange       = [-0.5*ny/nx,0.5*ny/nx], \n",
    "             conductivity = conductivity )\n",
    "\n",
    "Rcontact = 0.03\n",
    "region = lambda x,y: (x+0.4)**2+y**2 < Rcontact**2\n",
    "p.setPotential(regionFunc=region, U=1.0)\n",
    "region = lambda x,y: (x-0.4)**2+y**2 < Rcontact**2\n",
    "p.setPotential(regionFunc=region, U=-1.0)\n",
    "\n",
    "p.solve();"
   ]
  },
  {
   "cell_type": "code",
   "execution_count": null,
   "metadata": {},
   "outputs": [],
   "source": []
  }
 ],
 "metadata": {
  "kernelspec": {
   "display_name": "Python 3",
   "language": "python",
   "name": "python3"
  },
  "language_info": {
   "codemirror_mode": {
    "name": "ipython",
    "version": 3
   },
   "file_extension": ".py",
   "mimetype": "text/x-python",
   "name": "python",
   "nbconvert_exporter": "python",
   "pygments_lexer": "ipython3",
   "version": "3.7.1"
  }
 },
 "nbformat": 4,
 "nbformat_minor": 2
}
