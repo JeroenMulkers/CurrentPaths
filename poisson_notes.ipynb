{
 "cells": [
  {
   "cell_type": "markdown",
   "metadata": {},
   "source": [
    "# Solving the generalized Poisson equation\n",
    "\n",
    "Here we solve the generalized Poisson equation for the electrostatic potential $\\Phi$\n",
    "\n",
    "$$ \\nabla [ \\sigma (\\nabla \\Phi) ] = 0, $$\n",
    "\n",
    "for an inhomogeneous conductivity $\\sigma(\\vec{r})$ in 2D. Note that for a homogeneous conductivity, this reduces to the ordinary Poisson equation $\\Delta \\Phi=0$.\n",
    "\n",
    "Make sure that the right files are imported:"
   ]
  },
  {
   "cell_type": "code",
   "execution_count": null,
   "metadata": {},
   "outputs": [],
   "source": [
    "try:\n",
    "    import google.colab\n",
    "except:\n",
    "    %run poisson\n",
    "else:\n",
    "    !git clone https://github.com/jeroenmulkers/currentpaths\n",
    "    %run currentpaths/poisson"
   ]
  },
  {
   "cell_type": "markdown",
   "metadata": {},
   "source": [
    "## Example 1: Homogeneous conductivity"
   ]
  },
  {
   "cell_type": "code",
   "execution_count": null,
   "metadata": {},
   "outputs": [],
   "source": [
    "# Construct a 'Poisson object'\n",
    "p = Poisson( nx=60, ny=60, xrange=[0.,1.], yrange=[0.,1.], sigma=1.)\n",
    "\n",
    "# Add a first contact point with a certain voltage\n",
    "region = lambda x,y: 0.15>x>0.1 and 0.4<y<0.6\n",
    "p.setPotential(regionFunc=region, U=1.0)\n",
    "\n",
    "# Of course we need a second contact\n",
    "region = lambda x,y: 0.9<x<0.95 and 0.4<y<0.6\n",
    "p.setPotential(regionFunc=region, U=-1.0)\n",
    "\n",
    "# let's calculate and show the current\n",
    "p.showCurrent()"
   ]
  },
  {
   "cell_type": "markdown",
   "metadata": {},
   "source": [
    "## Example 2: high resistivity at the center"
   ]
  },
  {
   "cell_type": "code",
   "execution_count": null,
   "metadata": {},
   "outputs": [],
   "source": [
    "p = Poisson( nx=60, ny=60, xrange=[0.,1.], yrange=[0.,1.], sigma=1.)\n",
    "\n",
    "# Let's use the same contact points as in example 1\n",
    "region = lambda x,y: 0.15>x>0.1 and 0.4<y<0.6\n",
    "p.setPotential(regionFunc=region, U=1.0)\n",
    "region = lambda x,y: 0.9<x<0.95 and 0.4<y<0.6\n",
    "p.setPotential(regionFunc=region, U=-1.0)\n",
    "\n",
    "# Create rectangular region in the center with a low conductivity\n",
    "# (you can also set it to zero to have an isolating material at the center)\n",
    "sigmaCenter = 0.3\n",
    "region = lambda x,y: 0.4<x<0.6 and 0.3<y<0.7\n",
    "p.setSigma(regionFunc=region, sigma=sigmaCenter)\n",
    "\n",
    "p.showCurrent()"
   ]
  },
  {
   "cell_type": "code",
   "execution_count": null,
   "metadata": {},
   "outputs": [],
   "source": []
  },
  {
   "cell_type": "code",
   "execution_count": null,
   "metadata": {},
   "outputs": [],
   "source": []
  }
 ],
 "metadata": {
  "kernelspec": {
   "display_name": "Python 3",
   "language": "python",
   "name": "python3"
  },
  "language_info": {
   "codemirror_mode": {
    "name": "ipython",
    "version": 3
   },
   "file_extension": ".py",
   "mimetype": "text/x-python",
   "name": "python",
   "nbconvert_exporter": "python",
   "pygments_lexer": "ipython3",
   "version": "3.7.1"
  }
 },
 "nbformat": 4,
 "nbformat_minor": 2
}
